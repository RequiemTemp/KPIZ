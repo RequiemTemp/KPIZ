{
  "cells": [
    {
      "cell_type": "markdown",
      "metadata": {
        "collapsed": false,
        "id": "lr8hSaOzE2QP"
      },
      "source": [
        "# Home task : KNN classification\n",
        "1. `iris` dataset\n",
        "    - load `iris` dataset\n",
        "    - split to train and test\n",
        "    - train KNN classifiers for different `K`\n",
        "    - choose the best `K` determined on test set\n",
        "\n",
        "2. synthetic dataset\n",
        "    - generrate synthetic dataset\n",
        "    - split to train and test\n",
        "    - train KNN regressors for different `K`\n",
        "    - choose the best `K` determined on test set\n",
        "    - visualize the decision boundary \n",
        "\n",
        "\n"
      ]
    },
    {
      "cell_type": "markdown",
      "metadata": {
        "collapsed": false,
        "id": "z-dBpICtE2Qb"
      },
      "source": [
        "## `Iris` dataset "
      ]
    },
    {
      "cell_type": "code",
      "execution_count": 36,
      "metadata": {
        "colab": {
          "base_uri": "https://localhost:8080/"
        },
        "id": "A6CU42QJE2Qg",
        "outputId": "b0411d50-e0dc-49dc-ea44-b6b64249696a"
      },
      "outputs": [
        {
          "output_type": "stream",
          "name": "stdout",
          "text": [
            "data contains: dict_keys(['data', 'target', 'frame', 'target_names', 'DESCR', 'feature_names', 'filename', 'data_module'])\n"
          ]
        },
        {
          "output_type": "execute_result",
          "data": {
            "text/plain": [
              "array([[5.1, 3.5, 1.4, 0.2],\n",
              "       [4.9, 3. , 1.4, 0.2],\n",
              "       [4.7, 3.2, 1.3, 0.2],\n",
              "       [4.6, 3.1, 1.5, 0.2],\n",
              "       [5. , 3.6, 1.4, 0.2],\n",
              "       [5.4, 3.9, 1.7, 0.4],\n",
              "       [4.6, 3.4, 1.4, 0.3],\n",
              "       [5. , 3.4, 1.5, 0.2],\n",
              "       [4.4, 2.9, 1.4, 0.2],\n",
              "       [4.9, 3.1, 1.5, 0.1]])"
            ]
          },
          "metadata": {},
          "execution_count": 36
        }
      ],
      "source": [
        "import pandas as pd \n",
        "import numpy as np \n",
        "np.random.seed = 2021\n",
        "from sklearn.datasets import load_iris\n",
        "iris = load_iris()\n",
        "print ('data contains:',iris.keys())\n",
        "\n",
        "X = iris.data\n",
        "y = iris.target\n",
        "X[:10, :]"
      ]
    },
    {
      "cell_type": "code",
      "execution_count": 37,
      "metadata": {
        "colab": {
          "base_uri": "https://localhost:8080/"
        },
        "id": "zjqsUGbwE2Qn",
        "outputId": "1ba35546-4939-4353-8f9d-f753affaf654"
      },
      "outputs": [
        {
          "output_type": "stream",
          "name": "stdout",
          "text": [
            "[[7.2 3.6 6.1 2.5]\n",
            " [6.7 3.1 4.7 1.5]\n",
            " [6.9 3.1 5.4 2.1]\n",
            " [6.  2.9 4.5 1.5]\n",
            " [6.2 3.4 5.4 2.3]\n",
            " [4.4 2.9 1.4 0.2]\n",
            " [6.  3.  4.8 1.8]\n",
            " [5.6 3.  4.1 1.3]\n",
            " [6.8 2.8 4.8 1.4]\n",
            " [7.2 3.  5.8 1.6]] [2 1 2 1 2 0 2 1 1 2]\n"
          ]
        }
      ],
      "source": [
        "from sklearn.utils import shuffle\n",
        "\n",
        "X, y = shuffle(X, y)\n",
        "\n",
        "print(X[:10, :], y[:10])\n"
      ]
    },
    {
      "cell_type": "code",
      "execution_count": 38,
      "metadata": {
        "colab": {
          "base_uri": "https://localhost:8080/"
        },
        "id": "WjVxqgwmE2Qs",
        "outputId": "c22ac380-ecf0-4b54-bb5b-7db0e0962912"
      },
      "outputs": [
        {
          "output_type": "execute_result",
          "data": {
            "text/plain": [
              "array([[ 1.64384411,  1.24920112,  1.33113254,  1.71209594],\n",
              "       [ 1.03800476,  0.09821729,  0.53540856,  0.3957741 ],\n",
              "       [ 1.2803405 ,  0.09821729,  0.93327055,  1.18556721],\n",
              "       [ 0.18982966, -0.36217625,  0.42173371,  0.3957741 ],\n",
              "       [ 0.4321654 ,  0.78880759,  0.93327055,  1.44883158],\n",
              "       [-1.74885626, -0.36217625, -1.34022653, -1.3154443 ],\n",
              "       [ 0.18982966, -0.13197948,  0.59224599,  0.79067065],\n",
              "       [-0.29484182, -0.13197948,  0.194384  ,  0.13250973],\n",
              "       [ 1.15917263, -0.59237301,  0.59224599,  0.26414192],\n",
              "       [ 1.64384411, -0.13197948,  1.16062026,  0.52740629]])"
            ]
          },
          "metadata": {},
          "execution_count": 38
        }
      ],
      "source": [
        "from sklearn.preprocessing import StandardScaler\n",
        "sc = StandardScaler()\n",
        "X = sc.fit_transform(X)\n",
        "\n",
        "X[:10, :]"
      ]
    },
    {
      "cell_type": "code",
      "execution_count": 39,
      "metadata": {
        "colab": {
          "base_uri": "https://localhost:8080/"
        },
        "id": "lqjPR_cTE2Q2",
        "outputId": "c2d6facf-5838-43d1-87a7-8c6420f31d29"
      },
      "outputs": [
        {
          "output_type": "stream",
          "name": "stdout",
          "text": [
            "The best k = 0 , score = 0.0\n"
          ]
        }
      ],
      "source": [
        "k_best = 0 # 'compute the best k'\n",
        "score_best = float(0) #'compute the best score'\n",
        "print ('The best k = {} , score = {}'.format(k_best,score_best ))"
      ]
    },
    {
      "cell_type": "code",
      "execution_count": 40,
      "metadata": {
        "colab": {
          "base_uri": "https://localhost:8080/"
        },
        "id": "Ks2HxY84E2Q8",
        "outputId": "d5994ffc-8715-47c1-f04e-d69f23125014"
      },
      "outputs": [
        {
          "output_type": "stream",
          "name": "stdout",
          "text": [
            "X Train shape (120, 4)\n",
            "X Test shape (30, 4)\n",
            "Y Train shape (120,)\n",
            "Y Test shape (30,)\n"
          ]
        }
      ],
      "source": [
        "from sklearn.model_selection import train_test_split\n",
        "\n",
        "X_train, X_test, y_train, y_test = train_test_split(X, y, train_size=0.8, test_size=0.2)\n",
        "print(f'X Train shape {X_train.shape}')\n",
        "print(f'X Test shape {X_test.shape}')\n",
        "print(f'Y Train shape {y_train.shape}')\n",
        "print(f'Y Test shape {y_test.shape}')"
      ]
    },
    {
      "cell_type": "code",
      "execution_count": 41,
      "metadata": {
        "colab": {
          "base_uri": "https://localhost:8080/"
        },
        "id": "KsjG_80WE2RA",
        "outputId": "a85caf7b-e6ad-4a97-d275-f5692250841b"
      },
      "outputs": [
        {
          "output_type": "stream",
          "name": "stdout",
          "text": [
            "Best K: 1, accuracy: 0.9666666666666667\n"
          ]
        }
      ],
      "source": [
        "from sklearn.neighbors import KNeighborsClassifier\n",
        "from sklearn import metrics\n",
        "\n",
        "MAX = 50\n",
        "\n",
        "for K in range(1, MAX): \n",
        "    knn_c = KNeighborsClassifier(K) \n",
        "    knn_c.fit(X_train, y_train) \n",
        "\n",
        "    y_pred = knn_c.predict(X_test) \n",
        "\n",
        "    accuracy = float(metrics.accuracy_score(y_test, y_pred)) \n",
        "    if accuracy > score_best:\n",
        "        k_best = K\n",
        "        score_best = accuracy\n",
        "\n",
        "print(f'Best K: {k_best}, accuracy: {score_best}')"
      ]
    },
    {
      "cell_type": "markdown",
      "metadata": {
        "collapsed": false,
        "id": "WPX1ZO8-E2RI"
      },
      "source": [
        "## Synthetic dataset  "
      ]
    },
    {
      "cell_type": "code",
      "execution_count": 42,
      "metadata": {
        "colab": {
          "base_uri": "https://localhost:8080/",
          "height": 281
        },
        "id": "k68fyjUKE2RO",
        "outputId": "bdd11824-d5f2-495f-ab98-01d8c9ee2880"
      },
      "outputs": [
        {
          "output_type": "display_data",
          "data": {
            "image/png": "[encoded data removed]",
            "text/plain": [
              "<Figure size 432x288 with 1 Axes>"
            ]
          },
          "metadata": {
            "needs_background": "light"
          }
        }
      ],
      "source": [
        "from sklearn.datasets import make_blobs, make_regression\n",
        "import matplotlib.pyplot as plt\n",
        "%matplotlib inline\n",
        "from matplotlib.colors import ListedColormap\n",
        "cmap_bold = ListedColormap(['blue','#FFFF00','black','green'])\n",
        "\n",
        "np.random.seed= 2021\n",
        "X_D2, y_D2 = make_regression(n_samples = 1000, n_features = 4, random_state = 4,n_informative=1, noise=14)\n",
        "y_D2 = y_D2 \n",
        "plt.figure()\n",
        "plt.title('Sample binary classification problem with non-linearly separable classes')\n",
        "plt.scatter(X_D2[:,0], X_D2[:,1], c=y_D2,\n",
        "           marker= 'o', s=30, cmap=cmap_bold)\n",
        "plt.show()\n",
        "\n",
        "\n"
      ]
    },
    {
      "cell_type": "code",
      "execution_count": 43,
      "metadata": {
        "colab": {
          "base_uri": "https://localhost:8080/"
        },
        "id": "bXuiS57aE2RT",
        "outputId": "b4bc72b9-f771-498a-ebef-e1950a831bf1"
      },
      "outputs": [
        {
          "output_type": "stream",
          "name": "stdout",
          "text": [
            "The best k = 0 , score = 0\n"
          ]
        }
      ],
      "source": [
        "k_best = 0 # 'compute the best k'\n",
        "score_best = 0 #'compute the best score'\n",
        "print ('The best k = {} , score = {}'.format(k_best,score_best ))"
      ]
    },
    {
      "cell_type": "code",
      "execution_count": 44,
      "metadata": {
        "colab": {
          "base_uri": "https://localhost:8080/"
        },
        "id": "WkVtl1-ME2RZ",
        "outputId": "04901970-0237-4af8-fc72-32dfe020c68b"
      },
      "outputs": [
        {
          "output_type": "execute_result",
          "data": {
            "text/plain": [
              "array([[-0.63478854, -0.82130099, -1.47534778, -1.21267325],\n",
              "       [-0.42731301, -0.18672073, -0.35928544, -0.93488551],\n",
              "       [-1.2290723 ,  0.42662411,  0.46507978, -0.48038617],\n",
              "       [ 0.29033024, -0.1550057 , -1.00934782, -0.16083533],\n",
              "       [ 0.94993646, -0.18840623,  0.17197849,  0.02229925],\n",
              "       [-1.70815588,  0.82174298,  0.7486505 , -0.83465542],\n",
              "       [ 1.01798906,  0.44218318,  0.57808742, -0.62549005],\n",
              "       [-0.70691841,  0.26637414,  0.8779425 ,  0.67042075],\n",
              "       [ 2.60645724, -0.55046838,  1.08965399, -1.14452372],\n",
              "       [-1.58934776, -0.08306074, -0.22347108,  1.50465209]])"
            ]
          },
          "metadata": {},
          "execution_count": 44
        }
      ],
      "source": [
        "from sklearn.preprocessing import StandardScaler\n",
        "\n",
        "sc = StandardScaler()\n",
        "X_D2 = sc.fit_transform(X_D2)\n",
        "X_D2[:10, :]"
      ]
    },
    {
      "cell_type": "code",
      "execution_count": 45,
      "metadata": {
        "colab": {
          "base_uri": "https://localhost:8080/"
        },
        "id": "sO2HgQYaE2Re",
        "outputId": "f3b33c02-5625-4adb-d762-1268f398c953"
      },
      "outputs": [
        {
          "output_type": "stream",
          "name": "stdout",
          "text": [
            "X_D2 Train shape (800, 4)\n",
            "X_D2 Test shape (200, 4)\n",
            "y_D2 Train shape (800,)\n",
            "y_D2 Test shape (200,)\n"
          ]
        }
      ],
      "source": [
        "from sklearn.model_selection import train_test_split\n",
        "\n",
        "X_train_D2, X_test_D2, y_train_D2, y_test_D2 = train_test_split(X_D2, y_D2, train_size=0.8, test_size=0.2)\n",
        "\n",
        "print(f'X_D2 Train shape {X_train_D2.shape}')\n",
        "print(f'X_D2 Test shape {X_test_D2.shape}')\n",
        "print(f'y_D2 Train shape {y_train_D2.shape}')\n",
        "print(f'y_D2 Test shape {y_test_D2.shape}')"
      ]
    },
    {
      "cell_type": "code",
      "execution_count": 33,
      "metadata": {
        "colab": {
          "base_uri": "https://localhost:8080/"
        },
        "id": "bVCrdULVE2Ri",
        "outputId": "6817b409-9cef-42d1-8c70-6695f48f2c45"
      },
      "outputs": [
        {
          "output_type": "stream",
          "name": "stdout",
          "text": [
            "Best K is 8, score 0.8441876504703153\n"
          ]
        }
      ],
      "source": [
        "from sklearn.neighbors import KNeighborsRegressor\n",
        "\n",
        "MAX = 50\n",
        "\n",
        "scores = []\n",
        "for K in range(1, MAX): \n",
        "    knn_r = KNeighborsRegressor(K) \n",
        "    knn_r.fit(X_train_D2, y_train_D2)\n",
        "\n",
        "    y_pred_D2 = knn_r.predict(X_test_D2)\n",
        "\n",
        "    score = knn_r.score(X_test_D2, y_test_D2)\n",
        "    scores.append(score)\n",
        "\n",
        "    if score >  score_best :\n",
        "        k_best = K\n",
        "        score_best = score\n",
        "\n",
        "print(f\"Best K is {k_best}, score {score_best}\")"
      ]
    },
    {
      "cell_type": "code",
      "execution_count": 34,
      "metadata": {
        "colab": {
          "base_uri": "https://localhost:8080/",
          "height": 283
        },
        "id": "kLbP80FuE2Rn",
        "outputId": "01c8997d-ff6a-4208-9684-6e9da7862d3f"
      },
      "outputs": [
        {
          "output_type": "execute_result",
          "data": {
            "text/plain": [
              "<matplotlib.legend.Legend at 0x7faa9f297250>"
            ]
          },
          "metadata": {},
          "execution_count": 34
        },
        {
          "output_type": "display_data",
          "data": {
            "image/png": "[encoded data removed]",
            "text/plain": [
              "<Figure size 432x288 with 1 Axes>"
            ]
          },
          "metadata": {
            "needs_background": "light"
          }
        }
      ],
      "source": [
        "import matplotlib.pyplot as plt\n",
        "\n",
        "plt.figure()\n",
        "plt.plot(range(MAX-1), scores, lw=2, color=\"black\", label='Graph of dependencies score to K value')\n",
        "plt.legend()\n"
      ]
    },
    {
      "cell_type": "code",
      "execution_count": null,
      "metadata": {
        "id": "fw0k1y0oE2Rs"
      },
      "outputs": [],
      "source": [
        ""
      ]
    }
  ],
  "metadata": {
    "anaconda-cloud": {},
    "interpreter": {
      "hash": "916dbcbb3f70747c44a77c7bcd40155683ae19c65e1c03b4aa3499c5328201f1"
    },
    "kernelspec": {
      "display_name": "Python 3 (system-wide)",
      "language": "python",
      "metadata": {
        "cocalc": {
          "description": "Python 3 programming language",
          "priority": 100,
          "url": "https://www.python.org/"
        }
      },
      "name": "python3",
      "resource_dir": "/ext/jupyter/kernels/python3"
    },
    "language_info": {
      "codemirror_mode": {
        "name": "ipython",
        "version": 3
      },
      "file_extension": ".py",
      "mimetype": "text/x-python",
      "name": "python",
      "nbconvert_exporter": "python",
      "pygments_lexer": "ipython3",
      "version": "3.8.10"
    },
    "colab": {
      "name": "hometask_knn.ipynb",
      "provenance": [],
      "collapsed_sections": []
    }
  },
  "nbformat": 4,
  "nbformat_minor": 0
}